{
 "cells": [
  {
   "cell_type": "markdown",
   "id": "4078f186",
   "metadata": {},
   "source": [
    "# 1. Python program to check whether the given number is even or not."
   ]
  },
  {
   "cell_type": "code",
   "execution_count": 11,
   "id": "5f4d0057",
   "metadata": {},
   "outputs": [
    {
     "name": "stdout",
     "output_type": "stream",
     "text": [
      "Enter the number:6\n",
      "The Entered Number is Even\n"
     ]
    }
   ],
   "source": [
    "a=int(input(\"Enter the number:\"))\n",
    "if a%2==0:\n",
    "    print(\"The Entered Number is Even\")\n",
    "else:\n",
    "    print(\"The Entered Number is Odd\")\n",
    "    "
   ]
  },
  {
   "cell_type": "markdown",
   "id": "61f3a906",
   "metadata": {},
   "source": [
    "# 2. Python program to convert the temperature in degree centigrade to Fahrenheit"
   ]
  },
  {
   "cell_type": "code",
   "execution_count": 28,
   "id": "529728d4",
   "metadata": {},
   "outputs": [
    {
     "name": "stdout",
     "output_type": "stream",
     "text": [
      "33\n",
      "Fahrenheit = 91.4\n"
     ]
    }
   ],
   "source": [
    "a=float(input())\n",
    "f=(a*1.8)+32\n",
    "\n",
    "print(\"Fahrenheit =\",round(f,2))"
   ]
  },
  {
   "cell_type": "markdown",
   "id": "4d4a839a",
   "metadata": {},
   "source": [
    "# 3. Python program to find the product of a set of real numbers"
   ]
  },
  {
   "cell_type": "code",
   "execution_count": 173,
   "id": "ab4d67e7",
   "metadata": {},
   "outputs": [
    {
     "name": "stdout",
     "output_type": "stream",
     "text": [
      "Product of Real numbers: 47040\n"
     ]
    }
   ],
   "source": [
    "a=[1,2,7,2,5,6,7,8]\n",
    "product=1\n",
    "for i in a:\n",
    "    #product=i*product\n",
    "    product *= i\n",
    "\n",
    "print(\"Product of Real numbers:\",product)"
   ]
  },
  {
   "cell_type": "markdown",
   "id": "b67e8841",
   "metadata": {},
   "source": [
    "# 4. Python program to find the factorial of a number using recursion"
   ]
  },
  {
   "cell_type": "code",
   "execution_count": 12,
   "id": "20f94272",
   "metadata": {},
   "outputs": [
    {
     "name": "stdout",
     "output_type": "stream",
     "text": [
      "Enter the number:5\n",
      "Factorial of 5 is: 120\n"
     ]
    }
   ],
   "source": [
    "a=int(input(\"Enter the number:\"))\n",
    "f=1\n",
    "for i in range(1,a+1):\n",
    "    f=f*i\n",
    "    \n",
    "print(f\"Factorial of {a} is:\",f)"
   ]
  },
  {
   "cell_type": "markdown",
   "id": "f4c6f86c",
   "metadata": {},
   "source": [
    "# 5.Python program to implement linear search"
   ]
  },
  {
   "cell_type": "code",
   "execution_count": 1,
   "id": "1c656126",
   "metadata": {},
   "outputs": [
    {
     "name": "stdout",
     "output_type": "stream",
     "text": [
      "Enter the number to find:8\n",
      "The index position of 8 is : 7\n"
     ]
    }
   ],
   "source": [
    "a=[1,2,5,7,3,4,6,8,9,0]\n",
    "\n",
    "find =int(input(\"Enter the number to find:\"))\n",
    "\n",
    "for i in a:\n",
    "    if i == find:\n",
    "        print(f\"The index position of {find} is :\",a.index(i))"
   ]
  },
  {
   "cell_type": "markdown",
   "id": "4ad76dc3",
   "metadata": {},
   "source": [
    "# 6.Python program to implement binary search"
   ]
  },
  {
   "cell_type": "code",
   "execution_count": 13,
   "id": "8de2e70c",
   "metadata": {},
   "outputs": [
    {
     "name": "stdout",
     "output_type": "stream",
     "text": [
      "N is present in  7 th Index\n"
     ]
    }
   ],
   "source": [
    "a= [0,2,4,5,7,9,11,20]\n",
    "\n",
    "n=20\n",
    "low=0\n",
    "high=len(a)-1\n",
    "mid=0\n",
    "\n",
    "while low <= high:\n",
    "    mid=(low + high)//2\n",
    "    \n",
    "    if a[mid] > n:\n",
    "        high = mid-1\n",
    "    \n",
    "    elif a[mid] < n:\n",
    "        low = mid+1\n",
    "        \n",
    "        \n",
    "    elif a[mid] == n:\n",
    "        print(\"N is present in \",mid,\"th Index\")\n",
    "        break\n",
    "else:\n",
    "    print(\"Not in list\")"
   ]
  },
  {
   "cell_type": "markdown",
   "id": "9257f3ac",
   "metadata": {},
   "source": [
    "# 7.Python program to find the largest number in a list without using built-in functions"
   ]
  },
  {
   "cell_type": "code",
   "execution_count": 7,
   "id": "45f31d1f",
   "metadata": {},
   "outputs": [
    {
     "name": "stdout",
     "output_type": "stream",
     "text": [
      "Largest number in the list: 21\n"
     ]
    }
   ],
   "source": [
    "a=[1,2,7,15,10,6,12,21]\n",
    "m=0\n",
    "for i in a:\n",
    "    if m >= i:\n",
    "        continue\n",
    "                \n",
    "    else:\n",
    "        m=i\n",
    "        \n",
    "print(\"Largest number in the list:\",m)\n",
    "     \n",
    "\n"
   ]
  },
  {
   "cell_type": "markdown",
   "id": "f0b8738b",
   "metadata": {},
   "source": [
    "# 8.Python program to delete an element from a list by index"
   ]
  },
  {
   "cell_type": "code",
   "execution_count": 14,
   "id": "04977833",
   "metadata": {},
   "outputs": [
    {
     "name": "stdout",
     "output_type": "stream",
     "text": [
      "Old list: [4, 5, 7, 2, 7, 23]\n",
      "New list after deleting 3rd position: [4, 5, 2, 7, 23]\n"
     ]
    }
   ],
   "source": [
    "list=[4,5,7,2,7,23]\n",
    "print(\"Old list:\",list)\n",
    "del list[2]\n",
    "print(\"New list after deleting 3rd position:\",list)"
   ]
  },
  {
   "cell_type": "markdown",
   "id": "85f573d6",
   "metadata": {},
   "source": [
    "# 9.Python program to print all the items in a dictionary\n"
   ]
  },
  {
   "cell_type": "code",
   "execution_count": 15,
   "id": "33865055",
   "metadata": {},
   "outputs": [
    {
     "name": "stdout",
     "output_type": "stream",
     "text": [
      "Items in the Dictionary are\n",
      "('a', 1)\n",
      "('b', 2)\n",
      "('c', 3)\n"
     ]
    }
   ],
   "source": [
    "dic={'a':1,'b':2,'c':3}\n",
    "print(\"Items in the Dictionary are\")\n",
    "for i in dic.items():\n",
    "    print(i)"
   ]
  },
  {
   "cell_type": "markdown",
   "id": "d9ca3c99",
   "metadata": {},
   "source": [
    "# 10.Python program to find the average of 10 numbers using while loop\n"
   ]
  },
  {
   "cell_type": "code",
   "execution_count": 17,
   "id": "e0a7b82a",
   "metadata": {},
   "outputs": [
    {
     "name": "stdout",
     "output_type": "stream",
     "text": [
      "Everage of 10 numbers is : 20.2\n"
     ]
    }
   ],
   "source": [
    "number=[1,34,5,6,7,3,7,89,15,35]\n",
    "count=0\n",
    "add=0\n",
    "for i in number:   \n",
    "    while (count<10):\n",
    "        count = count+ 1\n",
    "        add=i+add\n",
    "        break      \n",
    "\n",
    "print(\"Everage of 10 numbers is :\",add/len(number))  "
   ]
  },
  {
   "cell_type": "code",
   "execution_count": null,
   "id": "6b29e3ab",
   "metadata": {},
   "outputs": [],
   "source": []
  }
 ],
 "metadata": {
  "kernelspec": {
   "display_name": "Python 3 (ipykernel)",
   "language": "python",
   "name": "python3"
  },
  "language_info": {
   "codemirror_mode": {
    "name": "ipython",
    "version": 3
   },
   "file_extension": ".py",
   "mimetype": "text/x-python",
   "name": "python",
   "nbconvert_exporter": "python",
   "pygments_lexer": "ipython3",
   "version": "3.9.7"
  }
 },
 "nbformat": 4,
 "nbformat_minor": 5
}
